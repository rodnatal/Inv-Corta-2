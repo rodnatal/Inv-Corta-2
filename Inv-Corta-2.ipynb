{
 "cells": [
  {
   "cell_type": "markdown",
   "metadata": {},
   "source": [
    "# Investigación corta 2\n",
    "##### Natalia Rodriguez\n",
    "# Aprendizaje Supervisado\n",
    "\n",
    "Consiste en predecir una salida a partir de una entrada. Se trata de construir un modelo de apredizaje automático a partir de los pares entrada/salida. En el aprendizaje supervisado se tienen los siguientes métodos:\n"
   ]
  },
  {
   "attachments": {
    "clasificacionRegresion.png": {
     "image/png": "[encoded data removed]"
    }
   },
   "cell_type": "markdown",
   "metadata": {},
   "source": [
    "![clasificacionRegresion.png](attachment:clasificacionRegresion.png)\n",
    "\n",
    "\n",
    "## 1. Clasificación\n",
    "El Objetivo es predecir una clase, donde hay clasificación binaria o multiclase.\n",
    "\n",
    "## 2. Regresión\n",
    "El objetivo es predecir un número continuo. Hay continuidad en la salida."
   ]
  },
  {
   "cell_type": "markdown",
   "metadata": {},
   "source": [
    "# Set de datos\n",
    "\n",
    "Se seleccionó el set de datos \"Graduate Admissions\", cuyo propósito es ayudar a estudiantes en la selección de universidades, dándoles una idea de las posibilidades que tienen para ingresar a una universidad en particular.\n",
    "https://www.kaggle.com/mohansacharya/graduate-admissions"
   ]
  },
  {
   "cell_type": "code",
   "execution_count": 1,
   "metadata": {},
   "outputs": [],
   "source": [
    "import pandas as pd\n",
    "import numpy as np\n",
    "import matplotlib.pyplot as plt\n"
   ]
  },
  {
   "cell_type": "code",
   "execution_count": 2,
   "metadata": {},
   "outputs": [],
   "source": [
    "#dataset_file=\"/home/natalia/Admission_Predict.csv\"\n",
    "dataset_file=\"Admission_Predict.csv\"\n",
    "datos = pd.read_csv(dataset_file)\n"
   ]
  },
  {
   "cell_type": "markdown",
   "metadata": {},
   "source": [
    "## Tamaño del set de datos\n",
    "El set de datos seleccionado consta de 400 ejemplos de 9 parámetros como se muesta a continuación:"
   ]
  },
  {
   "cell_type": "code",
   "execution_count": 3,
   "metadata": {},
   "outputs": [
    {
     "name": "stdout",
     "output_type": "stream",
     "text": [
      "(400, 9)\n"
     ]
    }
   ],
   "source": [
    "print(datos.shape)"
   ]
  },
  {
   "cell_type": "markdown",
   "metadata": {},
   "source": [
    "Los parámetros que se incluyen en el set de datos se consideran importantes a la hora de aplicar a programas de maestría en ciertas universidades, estos son:\n",
    "\n",
    "1. GRE Scores ( out of 340 )\n",
    "2. TOEFL Scores ( out of 120 ) \n",
    "3. University Rating ( out of 5 ) \n",
    "4. Statement of Purpose and ( out of 5 ) \n",
    "5. Letter of Recommendation Strength ( out of 5 ) \n",
    "5. Undergraduate GPA ( out of 10 ) \n",
    "6. Research Experience ( either 0 or 1 ) \n",
    "7. Chance of Admit ( ranging from 0 to 1 )\n",
    "\n",
    "A continuación se muestran los primeros 5 ejemplos del set de datos:"
   ]
  },
  {
   "cell_type": "code",
   "execution_count": 4,
   "metadata": {},
   "outputs": [
    {
     "data": {
      "text/html": [
       "<div>\n",
       "<style scoped>\n",
       "    .dataframe tbody tr th:only-of-type {\n",
       "        vertical-align: middle;\n",
       "    }\n",
       "\n",
       "    .dataframe tbody tr th {\n",
       "        vertical-align: top;\n",
       "    }\n",
       "\n",
       "    .dataframe thead th {\n",
       "        text-align: right;\n",
       "    }\n",
       "</style>\n",
       "<table border=\"1\" class=\"dataframe\">\n",
       "  <thead>\n",
       "    <tr style=\"text-align: right;\">\n",
       "      <th></th>\n",
       "      <th>Serial No.</th>\n",
       "      <th>GRE Score</th>\n",
       "      <th>TOEFL Score</th>\n",
       "      <th>University Rating</th>\n",
       "      <th>SOP</th>\n",
       "      <th>LOR</th>\n",
       "      <th>CGPA</th>\n",
       "      <th>Research</th>\n",
       "      <th>Chance of Admit</th>\n",
       "    </tr>\n",
       "  </thead>\n",
       "  <tbody>\n",
       "    <tr>\n",
       "      <th>0</th>\n",
       "      <td>1</td>\n",
       "      <td>337</td>\n",
       "      <td>118</td>\n",
       "      <td>4</td>\n",
       "      <td>4.5</td>\n",
       "      <td>4.5</td>\n",
       "      <td>9.65</td>\n",
       "      <td>1</td>\n",
       "      <td>0.92</td>\n",
       "    </tr>\n",
       "    <tr>\n",
       "      <th>1</th>\n",
       "      <td>2</td>\n",
       "      <td>324</td>\n",
       "      <td>107</td>\n",
       "      <td>4</td>\n",
       "      <td>4.0</td>\n",
       "      <td>4.5</td>\n",
       "      <td>8.87</td>\n",
       "      <td>1</td>\n",
       "      <td>0.76</td>\n",
       "    </tr>\n",
       "    <tr>\n",
       "      <th>2</th>\n",
       "      <td>3</td>\n",
       "      <td>316</td>\n",
       "      <td>104</td>\n",
       "      <td>3</td>\n",
       "      <td>3.0</td>\n",
       "      <td>3.5</td>\n",
       "      <td>8.00</td>\n",
       "      <td>1</td>\n",
       "      <td>0.72</td>\n",
       "    </tr>\n",
       "    <tr>\n",
       "      <th>3</th>\n",
       "      <td>4</td>\n",
       "      <td>322</td>\n",
       "      <td>110</td>\n",
       "      <td>3</td>\n",
       "      <td>3.5</td>\n",
       "      <td>2.5</td>\n",
       "      <td>8.67</td>\n",
       "      <td>1</td>\n",
       "      <td>0.80</td>\n",
       "    </tr>\n",
       "    <tr>\n",
       "      <th>4</th>\n",
       "      <td>5</td>\n",
       "      <td>314</td>\n",
       "      <td>103</td>\n",
       "      <td>2</td>\n",
       "      <td>2.0</td>\n",
       "      <td>3.0</td>\n",
       "      <td>8.21</td>\n",
       "      <td>0</td>\n",
       "      <td>0.65</td>\n",
       "    </tr>\n",
       "  </tbody>\n",
       "</table>\n",
       "</div>"
      ],
      "text/plain": [
       "   Serial No.  GRE Score  TOEFL Score  University Rating  SOP  LOR   CGPA  \\\n",
       "0           1        337          118                  4  4.5   4.5  9.65   \n",
       "1           2        324          107                  4  4.0   4.5  8.87   \n",
       "2           3        316          104                  3  3.0   3.5  8.00   \n",
       "3           4        322          110                  3  3.5   2.5  8.67   \n",
       "4           5        314          103                  2  2.0   3.0  8.21   \n",
       "\n",
       "   Research  Chance of Admit   \n",
       "0         1              0.92  \n",
       "1         1              0.76  \n",
       "2         1              0.72  \n",
       "3         1              0.80  \n",
       "4         0              0.65  "
      ]
     },
     "execution_count": 4,
     "metadata": {},
     "output_type": "execute_result"
    }
   ],
   "source": [
    "datos.head()"
   ]
  },
  {
   "cell_type": "markdown",
   "metadata": {},
   "source": [
    "Se eliminaron los parámetros \"Serial No.\" y \"University Rating\" debido a que no son tan relevantes para esta investigación."
   ]
  },
  {
   "cell_type": "code",
   "execution_count": 5,
   "metadata": {},
   "outputs": [],
   "source": [
    "cols_to_use = ['GRE Score','TOEFL Score','SOP', 'LOR ','CGPA','Research','Chance of Admit ']\n"
   ]
  },
  {
   "cell_type": "code",
   "execution_count": 6,
   "metadata": {},
   "outputs": [],
   "source": [
    "datos = datos[cols_to_use]\n"
   ]
  },
  {
   "cell_type": "code",
   "execution_count": 7,
   "metadata": {},
   "outputs": [
    {
     "data": {
      "text/plain": [
       "False"
      ]
     },
     "execution_count": 7,
     "metadata": {},
     "output_type": "execute_result"
    }
   ],
   "source": [
    "datos.isnull().values.any()"
   ]
  },
  {
   "cell_type": "code",
   "execution_count": 8,
   "metadata": {},
   "outputs": [
    {
     "data": {
      "text/plain": [
       "(400, 7)"
      ]
     },
     "execution_count": 8,
     "metadata": {},
     "output_type": "execute_result"
    }
   ],
   "source": [
    "datos.shape"
   ]
  },
  {
   "cell_type": "code",
   "execution_count": 9,
   "metadata": {},
   "outputs": [
    {
     "data": {
      "text/html": [
       "<div>\n",
       "<style scoped>\n",
       "    .dataframe tbody tr th:only-of-type {\n",
       "        vertical-align: middle;\n",
       "    }\n",
       "\n",
       "    .dataframe tbody tr th {\n",
       "        vertical-align: top;\n",
       "    }\n",
       "\n",
       "    .dataframe thead th {\n",
       "        text-align: right;\n",
       "    }\n",
       "</style>\n",
       "<table border=\"1\" class=\"dataframe\">\n",
       "  <thead>\n",
       "    <tr style=\"text-align: right;\">\n",
       "      <th></th>\n",
       "      <th>GRE Score</th>\n",
       "      <th>TOEFL Score</th>\n",
       "      <th>SOP</th>\n",
       "      <th>LOR</th>\n",
       "      <th>CGPA</th>\n",
       "      <th>Research</th>\n",
       "      <th>Chance of Admit</th>\n",
       "    </tr>\n",
       "  </thead>\n",
       "  <tbody>\n",
       "    <tr>\n",
       "      <th>0</th>\n",
       "      <td>337</td>\n",
       "      <td>118</td>\n",
       "      <td>4.5</td>\n",
       "      <td>4.5</td>\n",
       "      <td>9.65</td>\n",
       "      <td>1</td>\n",
       "      <td>0.92</td>\n",
       "    </tr>\n",
       "    <tr>\n",
       "      <th>1</th>\n",
       "      <td>324</td>\n",
       "      <td>107</td>\n",
       "      <td>4.0</td>\n",
       "      <td>4.5</td>\n",
       "      <td>8.87</td>\n",
       "      <td>1</td>\n",
       "      <td>0.76</td>\n",
       "    </tr>\n",
       "    <tr>\n",
       "      <th>2</th>\n",
       "      <td>316</td>\n",
       "      <td>104</td>\n",
       "      <td>3.0</td>\n",
       "      <td>3.5</td>\n",
       "      <td>8.00</td>\n",
       "      <td>1</td>\n",
       "      <td>0.72</td>\n",
       "    </tr>\n",
       "    <tr>\n",
       "      <th>3</th>\n",
       "      <td>322</td>\n",
       "      <td>110</td>\n",
       "      <td>3.5</td>\n",
       "      <td>2.5</td>\n",
       "      <td>8.67</td>\n",
       "      <td>1</td>\n",
       "      <td>0.80</td>\n",
       "    </tr>\n",
       "    <tr>\n",
       "      <th>4</th>\n",
       "      <td>314</td>\n",
       "      <td>103</td>\n",
       "      <td>2.0</td>\n",
       "      <td>3.0</td>\n",
       "      <td>8.21</td>\n",
       "      <td>0</td>\n",
       "      <td>0.65</td>\n",
       "    </tr>\n",
       "  </tbody>\n",
       "</table>\n",
       "</div>"
      ],
      "text/plain": [
       "   GRE Score  TOEFL Score  SOP  LOR   CGPA  Research  Chance of Admit \n",
       "0        337          118  4.5   4.5  9.65         1              0.92\n",
       "1        324          107  4.0   4.5  8.87         1              0.76\n",
       "2        316          104  3.0   3.5  8.00         1              0.72\n",
       "3        322          110  3.5   2.5  8.67         1              0.80\n",
       "4        314          103  2.0   3.0  8.21         0              0.65"
      ]
     },
     "execution_count": 9,
     "metadata": {},
     "output_type": "execute_result"
    }
   ],
   "source": [
    "datos.head()"
   ]
  },
  {
   "cell_type": "markdown",
   "metadata": {},
   "source": [
    "# Preprocesado\n",
    "Se ajustaron los datos de las columnas \"GRE score\" y \"TOEFL score\" con el objetivo de que sus valores se encuentren en el rango (0,1)."
   ]
  },
  {
   "cell_type": "code",
   "execution_count": 10,
   "metadata": {},
   "outputs": [],
   "source": [
    "from sklearn import preprocessing\n",
    "from warnings import simplefilter\n",
    "simplefilter(action='ignore', category=FutureWarning)\n",
    "\n",
    "import warnings\n",
    "from sklearn.exceptions import DataConversionWarning\n",
    "warnings.filterwarnings(action='ignore', category=DataConversionWarning)"
   ]
  },
  {
   "cell_type": "code",
   "execution_count": 11,
   "metadata": {},
   "outputs": [],
   "source": [
    "df = pd.DataFrame(datos[['GRE Score','TOEFL Score']])\n",
    "escalador = preprocessing.MinMaxScaler(feature_range=(0,1))\n",
    "rescaled_Gre=escalador.fit_transform(df)\n",
    "datos[['GRE Score','TOEFL Score']]= pd.DataFrame(rescaled_Gre)"
   ]
  },
  {
   "cell_type": "code",
   "execution_count": 12,
   "metadata": {},
   "outputs": [
    {
     "data": {
      "text/html": [
       "<div>\n",
       "<style scoped>\n",
       "    .dataframe tbody tr th:only-of-type {\n",
       "        vertical-align: middle;\n",
       "    }\n",
       "\n",
       "    .dataframe tbody tr th {\n",
       "        vertical-align: top;\n",
       "    }\n",
       "\n",
       "    .dataframe thead th {\n",
       "        text-align: right;\n",
       "    }\n",
       "</style>\n",
       "<table border=\"1\" class=\"dataframe\">\n",
       "  <thead>\n",
       "    <tr style=\"text-align: right;\">\n",
       "      <th></th>\n",
       "      <th>GRE Score</th>\n",
       "      <th>TOEFL Score</th>\n",
       "      <th>SOP</th>\n",
       "      <th>LOR</th>\n",
       "      <th>CGPA</th>\n",
       "      <th>Research</th>\n",
       "      <th>Chance of Admit</th>\n",
       "    </tr>\n",
       "  </thead>\n",
       "  <tbody>\n",
       "    <tr>\n",
       "      <th>0</th>\n",
       "      <td>0.94</td>\n",
       "      <td>0.928571</td>\n",
       "      <td>4.5</td>\n",
       "      <td>4.5</td>\n",
       "      <td>9.65</td>\n",
       "      <td>1</td>\n",
       "      <td>0.92</td>\n",
       "    </tr>\n",
       "    <tr>\n",
       "      <th>1</th>\n",
       "      <td>0.68</td>\n",
       "      <td>0.535714</td>\n",
       "      <td>4.0</td>\n",
       "      <td>4.5</td>\n",
       "      <td>8.87</td>\n",
       "      <td>1</td>\n",
       "      <td>0.76</td>\n",
       "    </tr>\n",
       "    <tr>\n",
       "      <th>2</th>\n",
       "      <td>0.52</td>\n",
       "      <td>0.428571</td>\n",
       "      <td>3.0</td>\n",
       "      <td>3.5</td>\n",
       "      <td>8.00</td>\n",
       "      <td>1</td>\n",
       "      <td>0.72</td>\n",
       "    </tr>\n",
       "    <tr>\n",
       "      <th>3</th>\n",
       "      <td>0.64</td>\n",
       "      <td>0.642857</td>\n",
       "      <td>3.5</td>\n",
       "      <td>2.5</td>\n",
       "      <td>8.67</td>\n",
       "      <td>1</td>\n",
       "      <td>0.80</td>\n",
       "    </tr>\n",
       "    <tr>\n",
       "      <th>4</th>\n",
       "      <td>0.48</td>\n",
       "      <td>0.392857</td>\n",
       "      <td>2.0</td>\n",
       "      <td>3.0</td>\n",
       "      <td>8.21</td>\n",
       "      <td>0</td>\n",
       "      <td>0.65</td>\n",
       "    </tr>\n",
       "  </tbody>\n",
       "</table>\n",
       "</div>"
      ],
      "text/plain": [
       "   GRE Score  TOEFL Score  SOP  LOR   CGPA  Research  Chance of Admit \n",
       "0       0.94     0.928571  4.5   4.5  9.65         1              0.92\n",
       "1       0.68     0.535714  4.0   4.5  8.87         1              0.76\n",
       "2       0.52     0.428571  3.0   3.5  8.00         1              0.72\n",
       "3       0.64     0.642857  3.5   2.5  8.67         1              0.80\n",
       "4       0.48     0.392857  2.0   3.0  8.21         0              0.65"
      ]
     },
     "execution_count": 12,
     "metadata": {},
     "output_type": "execute_result"
    }
   ],
   "source": [
    "datos.head()"
   ]
  },
  {
   "cell_type": "markdown",
   "metadata": {},
   "source": [
    "# Aprendizaje Supervisado\n",
    "\n",
    "\n",
    "Como se mencionó anteriormente, se seleccionó el conjunto de datos \"Graduate Admissions\", el cual predice el chance de ser admitidos a partir de otros parámetros importantes como el GRE score, TOEFL score, etc.\n",
    "\n",
    "Para los ejemplos de regresión se hará la predicción de el chance de ser admitidos, debido a que son valores continuos que se encuentran entre el rango de datos (0,1). En el caso de los ejemplos de clasificación se utilizará el mismo set de datos, pero se hará la predicción de si el estudiante tiene experiencia en investigación (parámetro \"Research\") basados en el resto de parámetros."
   ]
  },
  {
   "cell_type": "markdown",
   "metadata": {},
   "source": [
    "\n",
    "## Método 1: Linear Regression (Regresión)\n",
    "\n"
   ]
  },
  {
   "cell_type": "code",
   "execution_count": 13,
   "metadata": {},
   "outputs": [],
   "source": [
    "from sklearn.model_selection import train_test_split\n",
    "from sklearn.linear_model import LinearRegression\n",
    "\n",
    "features = datos[['GRE Score','TOEFL Score','SOP', 'LOR ','CGPA','Research']]\n",
    "labels =  datos[['Chance of Admit ']]\n",
    "\n",
    "X_train, X_test, y_train, y_test = train_test_split(features, labels, random_state=13)\n"
   ]
  },
  {
   "cell_type": "code",
   "execution_count": 14,
   "metadata": {},
   "outputs": [
    {
     "data": {
      "text/plain": [
       "(300, 6)"
      ]
     },
     "execution_count": 14,
     "metadata": {},
     "output_type": "execute_result"
    }
   ],
   "source": [
    "X_train.shape"
   ]
  },
  {
   "cell_type": "code",
   "execution_count": 15,
   "metadata": {},
   "outputs": [
    {
     "data": {
      "text/plain": [
       "(100, 6)"
      ]
     },
     "execution_count": 15,
     "metadata": {},
     "output_type": "execute_result"
    }
   ],
   "source": [
    "X_test.shape"
   ]
  },
  {
   "cell_type": "code",
   "execution_count": 16,
   "metadata": {},
   "outputs": [
    {
     "data": {
      "text/plain": [
       "(300, 1)"
      ]
     },
     "execution_count": 16,
     "metadata": {},
     "output_type": "execute_result"
    }
   ],
   "source": [
    "y_train.shape"
   ]
  },
  {
   "cell_type": "code",
   "execution_count": 17,
   "metadata": {},
   "outputs": [
    {
     "data": {
      "text/plain": [
       "(100, 1)"
      ]
     },
     "execution_count": 17,
     "metadata": {},
     "output_type": "execute_result"
    }
   ],
   "source": [
    "y_test.shape"
   ]
  },
  {
   "cell_type": "code",
   "execution_count": 18,
   "metadata": {},
   "outputs": [
    {
     "name": "stdout",
     "output_type": "stream",
     "text": [
      "training: 0.807\n",
      "test: 0.783\n"
     ]
    }
   ],
   "source": [
    "linearReg = LinearRegression().fit(X_train, y_train)\n",
    "\n",
    "print(\"training: {:.3f}\".format(linearReg.score(X_train, y_train)))\n",
    "print(\"test: {:.3f}\".format(linearReg.score(X_test, y_test)))\n"
   ]
  },
  {
   "cell_type": "markdown",
   "metadata": {},
   "source": [
    "## Método 2: Logistic Regression (Clasificación)\n",
    "\n",
    "A pesar de su nombre, este método se utiliza para clasificacion, por lo que en el set de datos se seleccionó la probabilidad de que el concursante haya realizado una investigación dependiendo del GRE score, TOEFL score y el chance de ser admitidos."
   ]
  },
  {
   "cell_type": "code",
   "execution_count": 19,
   "metadata": {},
   "outputs": [],
   "source": [
    "#datos.head()"
   ]
  },
  {
   "cell_type": "code",
   "execution_count": 20,
   "metadata": {},
   "outputs": [
    {
     "name": "stdout",
     "output_type": "stream",
     "text": [
      "training: 0.800\n",
      "test: 0.720\n"
     ]
    }
   ],
   "source": [
    "from sklearn.linear_model import LogisticRegression\n",
    "from sklearn.model_selection import train_test_split\n",
    "\n",
    "from warnings import simplefilter\n",
    "simplefilter(action='ignore', category=FutureWarning)\n",
    "\n",
    "import warnings\n",
    "from sklearn.exceptions import DataConversionWarning\n",
    "warnings.filterwarnings(action='ignore', category=DataConversionWarning)\n",
    "\n",
    "features = datos[['GRE Score','TOEFL Score','SOP', 'LOR ','CGPA','Chance of Admit ']]\n",
    "labels =  datos[['Research']]\n",
    "\n",
    "X_train, X_test, y_train, y_test = train_test_split(features, labels, random_state=13)\n",
    "\n",
    "logisticReg = LogisticRegression(solver='lbfgs').fit(X_train, y_train)\n",
    "\n",
    "print(\"training: {:.3f}\".format(logisticReg.score(X_train, y_train)))\n",
    "print(\"test: {:.3f}\".format(logisticReg.score(X_test, y_test)))"
   ]
  },
  {
   "cell_type": "markdown",
   "metadata": {},
   "source": [
    "\n",
    "## Método 3: Naive Bayes (Gaussian para clasificación)\n",
    "Naive Bayes es un set de algoritmos de aprendizaje supervisado basados en la aplicación del teorema de Bayes asumiendo independencia de los atributos entre si. Aprende a través de la recolección de estadísticas por clase de cada atributo. Existen tres tipos:\n",
    "\n",
    "1. BernoulliNB: Datos binarios.\n",
    "2. MultunomialNB: Datos representan un conteo.\n",
    "3. GaussianNB: Datos on distribución Gaussiana."
   ]
  },
  {
   "cell_type": "code",
   "execution_count": 21,
   "metadata": {},
   "outputs": [],
   "source": [
    "#datos.head()"
   ]
  },
  {
   "cell_type": "code",
   "execution_count": 22,
   "metadata": {},
   "outputs": [
    {
     "name": "stdout",
     "output_type": "stream",
     "text": [
      "training: 0.773\n",
      "test: 0.790\n"
     ]
    }
   ],
   "source": [
    "from sklearn.naive_bayes import GaussianNB\n",
    "from sklearn.model_selection import train_test_split\n",
    "\n",
    "from warnings import simplefilter\n",
    "simplefilter(action='ignore', category=FutureWarning)\n",
    "import warnings\n",
    "from sklearn.exceptions import DataConversionWarning\n",
    "warnings.filterwarnings(action='ignore', category=DataConversionWarning)\n",
    "\n",
    "features = datos[['GRE Score','TOEFL Score','SOP', 'LOR ','CGPA','Chance of Admit ']]\n",
    "labels =  datos[['Research']]\n",
    "\n",
    "X_train, X_test, y_train, y_test = train_test_split(features, labels, random_state=42)\n",
    "\n",
    "nbgaussian = GaussianNB().fit(X_train, y_train)\n",
    "print(\"training: {:.3f}\".format(nbgaussian.score(X_train, y_train)))\n",
    "print(\"test: {:.3f}\".format(nbgaussian.score(X_test, y_test)))"
   ]
  },
  {
   "attachments": {},
   "cell_type": "markdown",
   "metadata": {},
   "source": [
    "## Método 4: Decision Trees (Clasificación)\n",
    "\n",
    "Los árboles de decisión pueden usarse para clasificación o regresión. Para este ejemplo se utilizara la versión de clasificación."
   ]
  },
  {
   "cell_type": "code",
   "execution_count": 23,
   "metadata": {},
   "outputs": [
    {
     "name": "stdout",
     "output_type": "stream",
     "text": [
      "training: 0.797\n",
      "test: 0.787\n"
     ]
    }
   ],
   "source": [
    "from sklearn.tree import DecisionTreeClassifier\n",
    "from sklearn.model_selection import train_test_split\n",
    "\n",
    "from warnings import simplefilter\n",
    "simplefilter(action='ignore', category=FutureWarning)\n",
    "\n",
    "import warnings\n",
    "from sklearn.exceptions import DataConversionWarning\n",
    "warnings.filterwarnings(action='ignore', category=DataConversionWarning)\n",
    "\n",
    "features = datos[['GRE Score','TOEFL Score','SOP', 'LOR ','CGPA','Chance of Admit ']]\n",
    "labels =  datos[['Research']]\n",
    "\n",
    "X_train, X_test, y_train, y_test = train_test_split(features, labels, test_size=0.2, random_state=42)\n",
    "\n",
    "arbol = DecisionTreeClassifier(min_samples_split=100, random_state=15)\n",
    "arbol.fit(X_train, y_train)\n",
    "\n",
    "print(\"training: {:.3f}\".format(arbol.score(X_train, y_train)))\n",
    "print(\"test: {:.3f}\".format(arbol.score(X_test, y_test)))"
   ]
  },
  {
   "cell_type": "markdown",
   "metadata": {},
   "source": [
    "## Método 5: KNN (Clasificación)\n",
    "Este método puede ser usado en el caso donde las etiquetas son valores continuos. La salida es calculada basada en la media de sus vecinos más cercanos. Este método puede ser usado para clasificación o regresión."
   ]
  },
  {
   "cell_type": "code",
   "execution_count": 24,
   "metadata": {},
   "outputs": [],
   "source": [
    "#datos.head()"
   ]
  },
  {
   "cell_type": "code",
   "execution_count": 25,
   "metadata": {},
   "outputs": [
    {
     "data": {
      "text/plain": [
       "<matplotlib.legend.Legend at 0xa730dbcc>"
      ]
     },
     "execution_count": 25,
     "metadata": {},
     "output_type": "execute_result"
    },
    {
     "data": {
      "image/png": "[encoded data removed]",
      "text/plain": [
       "<Figure size 432x288 with 1 Axes>"
      ]
     },
     "metadata": {
      "needs_background": "light"
     },
     "output_type": "display_data"
    }
   ],
   "source": [
    "from sklearn.neighbors import KNeighborsClassifier\n",
    "from sklearn.model_selection import train_test_split\n",
    "import matplotlib.pyplot as plt\n",
    "%matplotlib inline\n",
    "\n",
    "features = datos[['GRE Score','TOEFL Score','SOP', 'LOR ','CGPA','Chance of Admit ']]\n",
    "labels =  datos[['Research']]\n",
    "\n",
    "X_train, X_test, y_train, y_test = train_test_split(features, labels, random_state=13)\n",
    "\n",
    "training_accuracy=[]\n",
    "test_accuracy=[]\n",
    "\n",
    "neighbors_settings = range(1, 11)\n",
    "\n",
    "for n_neighbors in neighbors_settings:\n",
    "    clf = KNeighborsClassifier(n_neighbors=n_neighbors)\n",
    "    clf.fit(X_train, y_train.astype('int'))\n",
    "    training_accuracy.append(clf.score(X_train, y_train))\n",
    "    test_accuracy.append(clf.score(X_test, y_test))\n",
    "       \n",
    "plt.plot(neighbors_settings, training_accuracy, label=\"training_accuracy\")\n",
    "plt.plot(neighbors_settings, test_accuracy, label=\"test_accuracy\")\n",
    "plt.ylabel(\"Accuracy\")\n",
    "plt.xlabel(\"n_neighbors\")\n",
    "plt.legend()\n"
   ]
  },
  {
   "cell_type": "markdown",
   "metadata": {},
   "source": [
    "## Método 6: KNN (Regresión)\n"
   ]
  },
  {
   "cell_type": "code",
   "execution_count": 26,
   "metadata": {},
   "outputs": [
    {
     "data": {
      "text/plain": [
       "<matplotlib.legend.Legend at 0xa72c3e6c>"
      ]
     },
     "execution_count": 26,
     "metadata": {},
     "output_type": "execute_result"
    },
    {
     "data": {
      "image/png": "[encoded data removed]",
      "text/plain": [
       "<Figure size 432x288 with 1 Axes>"
      ]
     },
     "metadata": {
      "needs_background": "light"
     },
     "output_type": "display_data"
    }
   ],
   "source": [
    "from sklearn.neighbors import KNeighborsRegressor\n",
    "from sklearn.model_selection import train_test_split\n",
    "import matplotlib.pyplot as plt\n",
    "%matplotlib inline\n",
    "\n",
    "features = datos[['GRE Score','TOEFL Score','SOP', 'LOR ','CGPA','Research']]\n",
    "labels =  datos[['Chance of Admit ']]\n",
    "\n",
    "X_train, X_test, y_train, y_test = train_test_split(features, labels, random_state=13)\n",
    "\n",
    "training_accuracy=[]\n",
    "test_accuracy=[]\n",
    "\n",
    "neighbors_settings = range(1, 15)\n",
    "\n",
    "for n_neighbors in neighbors_settings:\n",
    "    reg = KNeighborsRegressor(n_neighbors=n_neighbors)\n",
    "    reg.fit(X_train, y_train)\n",
    "    training_accuracy.append(reg.score(X_train, y_train))\n",
    "    test_accuracy.append(reg.score(X_test, y_test))\n",
    "\n",
    "plt.plot(neighbors_settings, training_accuracy, label=\"training_accuracy\")\n",
    "plt.plot(neighbors_settings, test_accuracy, label=\"test_accuracy\")\n",
    "plt.ylabel(\"Accuracy\")\n",
    "plt.xlabel(\"n_neighbors\")\n",
    "plt.legend()\n"
   ]
  },
  {
   "cell_type": "markdown",
   "metadata": {},
   "source": [
    "# Métodos tipo Ensamble\n",
    "\n",
    "El objetivo de los métodos de ensamble es combinar la predicción de varios estimadores. Se utilizan para ayudar a mejorar el rendimiento de los modelos de aprendizaje de máquina al mejorar su precisión.\n",
    "Se distinguen dos familias de métodos de ensamble: \"averaging\" y \"boosting\"."
   ]
  },
  {
   "cell_type": "markdown",
   "metadata": {},
   "source": [
    "## Método 7: Random Forest (Clasificación)\n",
    "Este método es una combinación de árboles predictores donde cada árbol depende de los valores de un vector aleatorio probado de manera independiente y con la misma distribución para cada uno.\n",
    "\n"
   ]
  },
  {
   "cell_type": "code",
   "execution_count": 27,
   "metadata": {},
   "outputs": [
    {
     "name": "stdout",
     "output_type": "stream",
     "text": [
      "training: 0.977\n",
      "test: 0.710\n"
     ]
    }
   ],
   "source": [
    "from sklearn.ensemble import RandomForestClassifier\n",
    "from sklearn.model_selection import train_test_split\n",
    "\n",
    "features = datos[['GRE Score','TOEFL Score','SOP', 'LOR ','CGPA','Chance of Admit ']]\n",
    "labels =  datos[['Research']]\n",
    "\n",
    "X_train, X_test, y_train, y_test = train_test_split(features, labels, random_state=10)\n",
    "\n",
    "rf = RandomForestClassifier(n_estimators=5).fit(X_train, y_train)\n",
    "\n",
    "print(\"training: {:.3f}\".format(rf.score(X_train, y_train)))\n",
    "print(\"test: {:.3f}\".format(rf.score(X_test, y_test)))"
   ]
  },
  {
   "cell_type": "markdown",
   "metadata": {},
   "source": [
    "## Método 8:  Adaboost (Clasificación)\n",
    "Este método propone entrenar una serie de clasificadores débiles (\"weak learners\") de manera iterativa, de manera que cada clasificador nuevo se enfoque en los datos que fueron erróneamente clasificados por su predecesor."
   ]
  },
  {
   "cell_type": "code",
   "execution_count": 28,
   "metadata": {},
   "outputs": [
    {
     "name": "stdout",
     "output_type": "stream",
     "text": [
      "training: 0.823\n",
      "test: 0.720\n"
     ]
    }
   ],
   "source": [
    "from sklearn.model_selection import cross_val_score\n",
    "from sklearn.ensemble import AdaBoostClassifier\n",
    "\n",
    "features = datos[['GRE Score','TOEFL Score','SOP', 'LOR ','CGPA','Chance of Admit ']]\n",
    "labels =  datos[['Research']]\n",
    "\n",
    "X_train, X_test, y_train, y_test = train_test_split(features, labels, random_state=13)\n",
    "\n",
    "ada = AdaBoostClassifier(n_estimators=10).fit(X_train, y_train)\n",
    "\n",
    "print(\"training: {:.3f}\".format(ada.score(X_train, y_train)))\n",
    "print(\"test: {:.3f}\".format(ada.score(X_test, y_test)))"
   ]
  },
  {
   "cell_type": "markdown",
   "metadata": {},
   "source": [
    "# Resultados"
   ]
  },
  {
   "cell_type": "markdown",
   "metadata": {},
   "source": [
    "Con el aprendizaje de máquina se quiere resolver el problema de aprender conceptos generales basados en ejemplos específicos.\n",
    "El concepto de generalización (\"generalization\") se refiere a qué tan bien aplican los conceptos aprendidos por un modelo de aprendizaje de máquina a ejemplos específicos. El objetivo de un buen modelo es generalizar bien a partir del set de entrenamiento para hacer predicciones en datos que el modelo no ha visto. \n",
    "\n",
    "Existe alguna terminología utilizada en aprendizaje de máquina para describir qué tan bien un modelo aprende y generaliza en datos nuevos. Estos terminos son: \"overfitting\" y \"underfitting\". Estas son las dos grandes causas del desempeño pobre en algoritmos de aprendizaje de máquina.\n",
    "\n",
    "## Fit\n",
    "Se refiere a un modelo que modela muy bien el set de entrenamiento.\n",
    "\n",
    "## Overfitting\n",
    "El modelo aprende los detalles y el ruido del set de entrenamiento pero afecta negativamente el desempeno del modelo en datos nuevos. Aprende el ruido como si fuera parte de los datos. Esto impacta de manera negativa la habilidad de los modelos para generalizar.\n",
    "\n",
    "## Underfitting\n",
    "Esto se da cuando el modelo no puede modelar correctamente el set de entrenamiento y por  lo tanto tiene dificultad para generalizar nuevos datos.\n"
   ]
  },
  {
   "cell_type": "markdown",
   "metadata": {},
   "source": [
    "# Tabla de Resultados"
   ]
  },
  {
   "cell_type": "code",
   "execution_count": 29,
   "metadata": {},
   "outputs": [
    {
     "name": "stdout",
     "output_type": "stream",
     "text": [
      "           Metodo Lin. Reg. Log. Reg. N. Bayes Dec. Trees Rand. Fores  Adab.\n",
      "0  Training Score     0.807     0.800    0.773      0.797       0.953  0.823\n",
      "1      Test score     0.783     0.720    0.790      0.787       0.710  0.720\n"
     ]
    }
   ],
   "source": [
    "result = {'Metodo':['Training Score', 'Test score'],'Lin. Reg.':['0.807','0.783'],'Log. Reg.':['0.800','0.720'],'N. Bayes':['0.773','0.790'],'Dec. Trees':['0.797','0.787'],'Rand. Fores':['0.953','0.710'],'Adab.':['0.823','0.720']}\n",
    "resultDataFrame = pd.DataFrame(result)\n",
    "print(resultDataFrame)"
   ]
  },
  {
   "cell_type": "markdown",
   "metadata": {},
   "source": [
    "En la tabla anterior se puede notar que para este set de datos se da overfitting en los métodos Logistic regresion, Random forest y Adaboost.\n",
    "Esto quiere decir que para ese set de datos el modelo no generaliza correctamente.\n",
    "\n",
    "Debido a la similitud de los valores resultantes entre el set de entrenamiento y set de pruebas, se puede decir que existe un fit en los modelos de los metodos Linear regresion, Naive Bayes y Decision trees. En esos casos los modelos hicieron una buena generalizacion."
   ]
  }
 ],
 "metadata": {
  "kernelspec": {
   "display_name": "Python 3",
   "language": "python",
   "name": "python3"
  },
  "language_info": {
   "codemirror_mode": {
    "name": "ipython",
    "version": 3
   },
   "file_extension": ".py",
   "mimetype": "text/x-python",
   "name": "python",
   "nbconvert_exporter": "python",
   "pygments_lexer": "ipython3",
   "version": "3.7.1"
  }
 },
 "nbformat": 4,
 "nbformat_minor": 2
}
